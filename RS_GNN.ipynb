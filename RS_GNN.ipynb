{
  "cells": [
    {
      "cell_type": "markdown",
      "metadata": {
        "id": "view-in-github",
        "colab_type": "text"
      },
      "source": [
        "<a href=\"https://colab.research.google.com/github/SarathMohanIITD/RS-GNN/blob/main/RS_GNN.ipynb\" target=\"_parent\"><img src=\"https://colab.research.google.com/assets/colab-badge.svg\" alt=\"Open In Colab\"/></a>"
      ]
    },
    {
      "cell_type": "code",
      "execution_count": null,
      "metadata": {
        "id": "xl428X5d7OWq"
      },
      "outputs": [],
      "source": [
        "!git clone https://github.com/DSE-MSU/DeepRobust.git\n",
        "%cd DeepRobust\n",
        "!python setup.py install\n",
        "!pip install torch_geometric"
      ]
    },
    {
      "cell_type": "code",
      "execution_count": null,
      "metadata": {
        "id": "ECq0QGEiw6xl"
      },
      "outputs": [],
      "source": [
        "rm -r /content/RS-GNN"
      ]
    },
    {
      "cell_type": "code",
      "execution_count": 3,
      "metadata": {
        "colab": {
          "base_uri": "https://localhost:8080/"
        },
        "id": "hdoshEOc7oMw",
        "outputId": "07008f33-5d9b-46a3-e5ca-61ea8c2758f4"
      },
      "outputs": [
        {
          "output_type": "stream",
          "name": "stdout",
          "text": [
            "/content\n",
            "Cloning into 'RS-GNN'...\n",
            "remote: Enumerating objects: 604, done.\u001b[K\n",
            "remote: Counting objects: 100% (604/604), done.\u001b[K\n",
            "remote: Compressing objects: 100% (190/190), done.\u001b[K\n",
            "remote: Total 604 (delta 428), reused 584 (delta 411), pack-reused 0\u001b[K\n",
            "Receiving objects: 100% (604/604), 3.57 MiB | 32.65 MiB/s, done.\n",
            "Resolving deltas: 100% (428/428), done.\n",
            "/content/RS-GNN\n"
          ]
        }
      ],
      "source": [
        "%cd ..\n",
        "!git clone https://github.com/SarathMohanIITD/RS-GNN\n",
        "%cd /content/RS-GNN"
      ]
    },
    {
      "cell_type": "markdown",
      "source": [
        "### GCN Cora 25%"
      ],
      "metadata": {
        "id": "E1XXzwdfbSI0"
      }
    },
    {
      "cell_type": "code",
      "source": [
        "!python train.py --only_gcn  --seed 10 --bound 0.5 --dataset cora --attack meta --ptb_rate 0.25 --epochs 200   --epochs_pre 400 --alpha 1.0  --gamma 1.0 --beta 0.1 --lr_optim 1e-2 --lr 1e-3"
      ],
      "metadata": {
        "colab": {
          "base_uri": "https://localhost:8080/"
        },
        "id": "lpFyDxi0baoR",
        "outputId": "27a9fd79-58c2-40f1-d11d-1bce78b35afd"
      },
      "execution_count": 4,
      "outputs": [
        {
          "output_type": "stream",
          "name": "stdout",
          "text": [
            "No module named 'torch_sparse'\n",
            "/usr/local/lib/python3.10/dist-packages/deeprobust-0.2.7-py3.10.egg/deeprobust/graph/defense/__init__.py:15: UserWarning: Please install pytorch geometric if you would like to use the datasets from pytorch geometric. See details in https://pytorch-geometric.readthedocs.io/en/latest/notes/installation.html\n",
            "Namespace(bound=0.5, two_stage='y', optim='sgd', lr_optim=0.01, debug=False, decay='n', plots='n', test='y', only_gcn=True, no_cuda=False, seed=10, lr=0.001, weight_decay=0.0005, hidden=16, dropout=0.5, dataset='cora', attack='meta', ptb_rate=0.25, epochs=200, alpha=1.0, epochs_pre=400, gamma=1.0, beta=0.1, inner_steps=2, outer_steps=1, symmetric=False, cuda=True)\n",
            "Loading cora dataset...\n",
            "Downloading from https://raw.githubusercontent.com/danielzuegner/gnn-meta-attack/master/data/cora.npz to /tmp/cora.npz\n",
            "Done!\n",
            "Selecting 1 largest connected components\n",
            "Dowloading from https://raw.githubusercontent.com/ChandlerBang/Pro-GNN/master/splits/cora_prognn_splits.json to /tmp/cora_prognn_splits.json\n",
            "Dowloading from https://raw.githubusercontent.com/ChandlerBang/Pro-GNN/master/meta/cora_meta_adj_0.25.npz to /tmp/cora_meta_adj_0.25.npz\n",
            "Loading cora dataset perturbed by 0.25 meta...\n",
            "/usr/local/lib/python3.10/dist-packages/deeprobust-0.2.7-py3.10.egg/deeprobust/graph/data/attacked_data.py:135: UserWarning: The pre-attacked graph is perturbed under the data splits provided by ProGNN. So if you are going to verify the attacking performance, you should use the same data splits  (setting='prognn').\n",
            "=== training gcn model ===\n",
            "Epoch 0, training loss: 1.9415407180786133\n",
            "Epoch 10, training loss: 1.3349556922912598\n",
            "Epoch 20, training loss: 0.766528844833374\n",
            "Epoch 30, training loss: 0.45706599950790405\n",
            "Epoch 40, training loss: 0.31102871894836426\n",
            "Epoch 50, training loss: 0.1892249435186386\n",
            "Epoch 60, training loss: 0.16364935040473938\n",
            "Epoch 70, training loss: 0.1320713609457016\n",
            "Epoch 80, training loss: 0.11276254802942276\n",
            "Epoch 90, training loss: 0.11457255482673645\n",
            "Epoch 100, training loss: 0.12184984982013702\n",
            "Epoch 110, training loss: 0.12021227180957794\n",
            "Epoch 120, training loss: 0.11223004013299942\n",
            "Epoch 130, training loss: 0.12064959108829498\n",
            "Epoch 140, training loss: 0.10272146761417389\n",
            "Epoch 150, training loss: 0.10397364944219589\n",
            "Epoch 160, training loss: 0.09005583077669144\n",
            "Epoch 170, training loss: 0.07612734287977219\n",
            "Epoch 180, training loss: 0.07126996666193008\n",
            "Epoch 190, training loss: 0.07208748161792755\n",
            "=== picking the best model according to the performance on validation ===\n",
            "Test set results: loss= 1.5594 accuracy= 0.4784\n"
          ]
        }
      ]
    },
    {
      "cell_type": "markdown",
      "source": [
        "### Citeseer 25% Meta  2 stage"
      ],
      "metadata": {
        "id": "4wsk-PbFWIe5"
      }
    },
    {
      "cell_type": "code",
      "execution_count": 5,
      "metadata": {
        "colab": {
          "base_uri": "https://localhost:8080/"
        },
        "id": "h10imWakwvD3",
        "outputId": "c42b58c8-4a7a-4e07-829b-d74865af8388"
      },
      "outputs": [
        {
          "output_type": "stream",
          "name": "stdout",
          "text": [
            "No module named 'torch_sparse'\n",
            "/usr/local/lib/python3.10/dist-packages/deeprobust-0.2.7-py3.10.egg/deeprobust/graph/defense/__init__.py:15: UserWarning: Please install pytorch geometric if you would like to use the datasets from pytorch geometric. See details in https://pytorch-geometric.readthedocs.io/en/latest/notes/installation.html\n",
            "Namespace(bound=0.5, two_stage='y', optim='sgd', lr_optim=0.01, debug=False, decay='n', plots='n', test='y', only_gcn=False, no_cuda=False, seed=30, lr=0.001, weight_decay=0.0005, hidden=16, dropout=0.5, dataset='citeseer', attack='meta', ptb_rate=0.25, epochs=200, alpha=1.0, epochs_pre=400, gamma=1.0, beta=0.3, inner_steps=2, outer_steps=1, symmetric=False, cuda=True)\n",
            "Loading citeseer dataset...\n",
            "Downloading from https://raw.githubusercontent.com/danielzuegner/gnn-meta-attack/master/data/citeseer.npz to /tmp/citeseer.npz\n",
            "Done!\n",
            "Selecting 1 largest connected components\n",
            "Dowloading from https://raw.githubusercontent.com/ChandlerBang/Pro-GNN/master/splits/citeseer_prognn_splits.json to /tmp/citeseer_prognn_splits.json\n",
            "Dowloading from https://raw.githubusercontent.com/ChandlerBang/Pro-GNN/master/meta/citeseer_meta_adj_0.25.npz to /tmp/citeseer_meta_adj_0.25.npz\n",
            "Loading citeseer dataset perturbed by 0.25 meta...\n",
            "/usr/local/lib/python3.10/dist-packages/deeprobust-0.2.7-py3.10.egg/deeprobust/graph/data/attacked_data.py:135: UserWarning: The pre-attacked graph is perturbed under the data splits provided by ProGNN. So if you are going to verify the attacking performance, you should use the same data splits  (setting='prognn').\n",
            "/content/RS-GNN/Bounded_two_stage.py:185: UserWarning: To copy construct from a tensor, it is recommended to use sourceTensor.clone().detach() or sourceTensor.clone().detach().requires_grad_(True), rather than torch.tensor(sourceTensor).\n",
            "  M_t=torch.tensor(M)\n",
            " Using bounded gcn\n",
            "Training with val\n",
            "Test set results: loss= 1.0691 accuracy= 0.7305\n"
          ]
        }
      ],
      "source": [
        "!python train.py --two_stage y --bound 0.5 --seed 30 --dataset citeseer  --attack meta --ptb_rate 0.25 --epochs 200 --epochs_pre 400 --alpha 1.0  --gamma 1.0 --beta 0.3 --lr_optim 1e-2 --lr 1e-3"
      ]
    },
    {
      "cell_type": "markdown",
      "source": [
        "### Cora Meta 25%"
      ],
      "metadata": {
        "id": "GwBRPakVeDQX"
      }
    },
    {
      "cell_type": "code",
      "source": [
        "!python train.py --two_stage y --bound 0.4 --seed 30 --dataset cora  --attack meta --ptb_rate 0.25 --epochs 200 --epochs_pre 200 --alpha 1.0  --gamma 1.0 --beta 0.45 --lr_optim 5e-3 --lr 5e-2"
      ],
      "metadata": {
        "colab": {
          "base_uri": "https://localhost:8080/"
        },
        "id": "5bb7zWsNWQWe",
        "outputId": "0a5d0f76-d7bf-46d8-9787-49a82b2042c7"
      },
      "execution_count": 6,
      "outputs": [
        {
          "output_type": "stream",
          "name": "stdout",
          "text": [
            "No module named 'torch_sparse'\n",
            "/usr/local/lib/python3.10/dist-packages/deeprobust-0.2.7-py3.10.egg/deeprobust/graph/defense/__init__.py:15: UserWarning: Please install pytorch geometric if you would like to use the datasets from pytorch geometric. See details in https://pytorch-geometric.readthedocs.io/en/latest/notes/installation.html\n",
            "Namespace(bound=0.4, two_stage='y', optim='sgd', lr_optim=0.005, debug=False, decay='n', plots='n', test='y', only_gcn=False, no_cuda=False, seed=30, lr=0.05, weight_decay=0.0005, hidden=16, dropout=0.5, dataset='cora', attack='meta', ptb_rate=0.25, epochs=200, alpha=1.0, epochs_pre=200, gamma=1.0, beta=0.45, inner_steps=2, outer_steps=1, symmetric=False, cuda=True)\n",
            "Loading cora dataset...\n",
            "Selecting 1 largest connected components\n",
            "Loading cora dataset perturbed by 0.25 meta...\n",
            "/usr/local/lib/python3.10/dist-packages/deeprobust-0.2.7-py3.10.egg/deeprobust/graph/data/attacked_data.py:135: UserWarning: The pre-attacked graph is perturbed under the data splits provided by ProGNN. So if you are going to verify the attacking performance, you should use the same data splits  (setting='prognn').\n",
            "/content/RS-GNN/Bounded_two_stage.py:185: UserWarning: To copy construct from a tensor, it is recommended to use sourceTensor.clone().detach() or sourceTensor.clone().detach().requires_grad_(True), rather than torch.tensor(sourceTensor).\n",
            "  M_t=torch.tensor(M)\n",
            " Using bounded gcn\n",
            "Training with val\n",
            "Test set results: loss= 0.7977 accuracy= 0.7636\n"
          ]
        }
      ]
    }
  ],
  "metadata": {
    "colab": {
      "provenance": [],
      "gpuType": "T4",
      "authorship_tag": "ABX9TyNrYX9jJlHzcfrltYEtLp6T",
      "include_colab_link": true
    },
    "kernelspec": {
      "display_name": "Python 3",
      "name": "python3"
    },
    "language_info": {
      "name": "python"
    },
    "accelerator": "GPU",
    "gpuClass": "standard"
  },
  "nbformat": 4,
  "nbformat_minor": 0
}